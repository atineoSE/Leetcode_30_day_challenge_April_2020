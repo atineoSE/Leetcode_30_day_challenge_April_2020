{
 "cells": [
  {
   "cell_type": "markdown",
   "metadata": {},
   "source": [
    "From solution here: https://leetcode.com/explore/challenge/card/30-day-leetcoding-challenge/530/week-3/3301/ "
   ]
  },
  {
   "cell_type": "markdown",
   "metadata": {},
   "source": [
    "## Dynamic programming approach\n",
    "\n",
    "### Intuition and Algorithm\n",
    "\n",
    "Let `dp[i][j]` be true if and only if the interval `s[i], s[i+1], ..., s[j]` can be made valid. \n",
    "\n",
    "Then `dp[i][j]` is true only if \n",
    "* `s[i]` is `*`, and the interval `s[i+1], s[i+2], ..., s[j]` can be made valid, or\n",
    "* `s[i]` can be made to be `(`, and there is some `k` in `[i+1, j]` such that `s[k]` can be made to be `)`, plus the two intervals cut by `s[k]`, i.e. `s[i+1: k]` and `s[k+1: j+1]` can be made valid\n",
    "\n",
    "### Complexity analysis\n",
    "Time Complexity: O(N^3), where N is the length of the string. There are O(N^2) states corresponding to entries of dp, and we do an average of O(N) work on each state.\n",
    "\n",
    "Space Complexity: O(N^2), the space used to store intermediate results in `dp`.\n"
   ]
  },
  {
   "cell_type": "code",
   "execution_count": 8,
   "metadata": {},
   "outputs": [],
   "source": [
    "def checkValidString(s):\n",
    "    if not s: return True\n",
    "    LEFTY, RIGHTY = '(*', ')*'\n",
    "\n",
    "    n = len(s)\n",
    "    dp = [[False] * n for _ in s]\n",
    "    for i in range(n):\n",
    "        if s[i] == '*':\n",
    "            dp[i][i] = True\n",
    "        if i < n-1 and s[i] in LEFTY and s[i+1] in RIGHTY:\n",
    "            dp[i][i+1] = True\n",
    "\n",
    "    for size in range(2, n):\n",
    "        for i in range(n - size):\n",
    "            if s[i] == '*' and dp[i+1][i+size]:\n",
    "                dp[i][i+size] = True\n",
    "            elif s[i] in LEFTY:\n",
    "                for k in range(i+1, i+size+1):\n",
    "                    if (s[k] in RIGHTY and\n",
    "                            (k == i+1 or dp[i+1][k-1]) and\n",
    "                            (k == i+size or dp[k+1][i+size])):\n",
    "                        dp[i][i+size] = True\n",
    "\n",
    "    return dp[0][-1]"
   ]
  },
  {
   "cell_type": "code",
   "execution_count": 9,
   "metadata": {},
   "outputs": [
    {
     "data": {
      "text/plain": [
       "True"
      ]
     },
     "execution_count": 9,
     "metadata": {},
     "output_type": "execute_result"
    }
   ],
   "source": [
    "checkValidString(\"(*))\")"
   ]
  },
  {
   "cell_type": "markdown",
   "metadata": {},
   "source": [
    "## Greedy approach\n",
    "\n",
    "### Intuition\n",
    "\n",
    "When checking whether the string is valid, we only care about the \"balance\": the number of extra, open left parenthesis as we parse through the string. For example, when checking whether `(()())` is valid, we have a balance of 1, 2, 1, 2, 1, 0 as we parse through the string: `(` has balance 1, `((` has 2, `(()` has 1, and so on. This means that after parsing the first `i` symbols, (which may include asterisks,) we only need to keep track of what the balance could be.\n",
    "\n",
    "For example, if we have string `(***)`, then as we parse each symbol, the set of possible values for the balance is `[1]` for `(`; `[0, 1, 2]` for `(*`; `[0, 1, 2, 3]` for `(**`; `[0, 1, 2, 3, 4]` for `(***`, and `[0, 1, 2, 3]` for `(***)`.\n",
    "\n",
    "Furthermore, we can prove these states always form a contiguous interval. Thus, we only need to know the left and right bounds of this interval. That is, we would keep those intermediate states described above as `[lo, hi] = [1, 1], [0, 2], [0, 3], [0, 4], [0, 3]`.\n",
    "\n",
    "### Algorithm\n",
    "\n",
    "Let `lo`, `hi` respectively be the smallest and largest possible number of open left brackets after processing the current character in the string.\n",
    "\n",
    "If we encounter a left parenthesis `(`, then `lo++`, otherwise we might have a right parenthesis (`*` or `)`), so `lo--`. If we encounter what might be a left parenthesis (`(` or `*`), then `hi++`. If we encounter, a right parenthesis, then `hi--`. \n",
    "\n",
    "If `hi < 0`, then the current prefix can't be made valid no matter what our choices are. Also, we can never have less than 0 open left brackets. At the end, we should check that we can have exactly 0 open left brackets."
   ]
  },
  {
   "cell_type": "markdown",
   "metadata": {},
   "source": [
    "### Complexity Analysis\n",
    "\n",
    "Time Complexity: O(N),  where N is the length of the string. We iterate through the string once.\n",
    "\n",
    "Space Complexity: O(1), the space used by our lo and hi pointers. However, creating a new character array will take O(N) space."
   ]
  },
  {
   "cell_type": "code",
   "execution_count": 2,
   "metadata": {},
   "outputs": [],
   "source": [
    "def checkValidString(s):\n",
    "    lo = hi = 0\n",
    "    for c in s:\n",
    "        lo += 1 if c == '(' else -1\n",
    "        hi += 1 if c != ')' else -1\n",
    "        if hi < 0: break\n",
    "        lo = max(lo, 0)\n",
    "\n",
    "    return lo == 0"
   ]
  },
  {
   "cell_type": "code",
   "execution_count": 3,
   "metadata": {},
   "outputs": [
    {
     "data": {
      "text/plain": [
       "True"
      ]
     },
     "execution_count": 3,
     "metadata": {},
     "output_type": "execute_result"
    }
   ],
   "source": [
    "checkValidString(\"(*))\")"
   ]
  },
  {
   "cell_type": "code",
   "execution_count": null,
   "metadata": {},
   "outputs": [],
   "source": []
  }
 ],
 "metadata": {
  "kernelspec": {
   "display_name": "Python 3",
   "language": "python",
   "name": "python3"
  },
  "language_info": {
   "codemirror_mode": {
    "name": "ipython",
    "version": 3
   },
   "file_extension": ".py",
   "mimetype": "text/x-python",
   "name": "python",
   "nbconvert_exporter": "python",
   "pygments_lexer": "ipython3",
   "version": "3.7.6"
  }
 },
 "nbformat": 4,
 "nbformat_minor": 4
}
