{
 "cells": [
  {
   "cell_type": "markdown",
   "metadata": {},
   "source": [
    "From this solution:\n",
    "https://leetcode.com/explore/featured/card/30-day-leetcoding-challenge/529/week-2/3298/discuss/99655/Python-O(n)-Solution-with-Visual-Explanation"
   ]
  },
  {
   "cell_type": "code",
   "execution_count": 16,
   "metadata": {},
   "outputs": [],
   "source": [
    "def findMaxLength(nums):\n",
    "    count = 0\n",
    "    max_length=0\n",
    "    table = {0: 0}\n",
    "    table2 = {0: (0,None)}\n",
    "    for index, num in enumerate(nums, 1):\n",
    "        \n",
    "        print(\"index:{}, num:{}, count: {}, table2:{}\".format(index,num,count,table2))\n",
    "        \n",
    "        if num == 0:\n",
    "            count -= 1\n",
    "        else:\n",
    "            count += 1\n",
    "\n",
    "        if count in table:\n",
    "            max_length = max(max_length, index - table[count])\n",
    "            table2[count] = (table2[count][0], index)\n",
    "        else:\n",
    "            table[count] = index\n",
    "            table2[count] = (index, None)\n",
    "            \n",
    "    print(\"index:{}, num:{}, count: {}, table2:{}\".format(index,num,count,table2))\n",
    "\n",
    "    return max_length"
   ]
  },
  {
   "cell_type": "code",
   "execution_count": 17,
   "metadata": {},
   "outputs": [
    {
     "name": "stdout",
     "output_type": "stream",
     "text": [
      "index:1, num:1, count: 0, table2:{0: (0, None)}\n",
      "index:2, num:0, count: 1, table2:{0: (0, None), 1: (1, None)}\n",
      "index:3, num:1, count: 0, table2:{0: (0, 2), 1: (1, None)}\n",
      "index:4, num:1, count: 1, table2:{0: (0, 2), 1: (1, 3)}\n",
      "index:5, num:0, count: 2, table2:{0: (0, 2), 1: (1, 3), 2: (4, None)}\n",
      "index:6, num:0, count: 1, table2:{0: (0, 2), 1: (1, 5), 2: (4, None)}\n",
      "index:7, num:0, count: 0, table2:{0: (0, 6), 1: (1, 5), 2: (4, None)}\n",
      "index:7, num:0, count: -1, table2:{0: (0, 6), 1: (1, 5), 2: (4, None), -1: (7, None)}\n"
     ]
    },
    {
     "data": {
      "text/plain": [
       "6"
      ]
     },
     "execution_count": 17,
     "metadata": {},
     "output_type": "execute_result"
    }
   ],
   "source": [
    "findMaxLength([1,0,1,1,0,0,0])"
   ]
  },
  {
   "cell_type": "code",
   "execution_count": null,
   "metadata": {},
   "outputs": [],
   "source": []
  }
 ],
 "metadata": {
  "kernelspec": {
   "display_name": "Python 3",
   "language": "python",
   "name": "python3"
  },
  "language_info": {
   "codemirror_mode": {
    "name": "ipython",
    "version": 3
   },
   "file_extension": ".py",
   "mimetype": "text/x-python",
   "name": "python",
   "nbconvert_exporter": "python",
   "pygments_lexer": "ipython3",
   "version": "3.7.6"
  }
 },
 "nbformat": 4,
 "nbformat_minor": 4
}
